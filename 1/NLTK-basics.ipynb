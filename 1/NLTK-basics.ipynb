{
  "nbformat": 4,
  "nbformat_minor": 0,
  "metadata": {
    "colab": {
      "provenance": [],
      "authorship_tag": "ABX9TyM98damBXB4v0Y0Q0m0A711",
      "include_colab_link": true
    },
    "kernelspec": {
      "name": "python3",
      "display_name": "Python 3"
    },
    "language_info": {
      "name": "python"
    }
  },
  "cells": [
    {
      "cell_type": "markdown",
      "metadata": {
        "id": "view-in-github",
        "colab_type": "text"
      },
      "source": [
        "<a href=\"https://colab.research.google.com/github/parth29-vc/DDIT-workshop/blob/main/1/NLTK-basics.ipynb\" target=\"_parent\"><img src=\"https://colab.research.google.com/assets/colab-badge.svg\" alt=\"Open In Colab\"/></a>"
      ]
    },
    {
      "cell_type": "code",
      "execution_count": 1,
      "metadata": {
        "id": "Sj4wfFOVguU6",
        "outputId": "88ef892d-f85b-4f44-cabc-9246cf42e697",
        "colab": {
          "base_uri": "https://localhost:8080/"
        }
      },
      "outputs": [
        {
          "output_type": "stream",
          "name": "stderr",
          "text": [
            "[nltk_data] Downloading package wordnet to /root/nltk_data...\n",
            "[nltk_data]   Package wordnet is already up-to-date!\n"
          ]
        }
      ],
      "source": [
        "import nltk\n",
        "nltk.download('wordnet')\n",
        "from nltk.corpus import wordnet as wn"
      ]
    },
    {
      "cell_type": "code",
      "source": [
        "poses = { 'a':'adj', 'n':'noun', 'r':'adv', 's':'adj (s)', 'v':'verb'}\n",
        "for synset in wn.synsets(\"good\"):\n",
        "  print(\"{}: {}\".format(poses[synset.pos()], \", \".join([l.name() for l in synset.lemmas()])))"
      ],
      "metadata": {
        "id": "Q3kcu40ghss-",
        "outputId": "43afbeac-78b7-4fe6-ad16-10a9f052be82",
        "colab": {
          "base_uri": "https://localhost:8080/"
        }
      },
      "execution_count": 2,
      "outputs": [
        {
          "output_type": "stream",
          "name": "stdout",
          "text": [
            "noun: good\n",
            "noun: good, goodness\n",
            "noun: good, goodness\n",
            "noun: commodity, trade_good, good\n",
            "adj: good\n",
            "adj (s): full, good\n",
            "adj: good\n",
            "adj (s): estimable, good, honorable, respectable\n",
            "adj (s): beneficial, good\n",
            "adj (s): good\n",
            "adj (s): good, just, upright\n",
            "adj (s): adept, expert, good, practiced, proficient, skillful, skilful\n",
            "adj (s): good\n",
            "adj (s): dear, good, near\n",
            "adj (s): dependable, good, safe, secure\n",
            "adj (s): good, right, ripe\n",
            "adj (s): good, well\n",
            "adj (s): effective, good, in_effect, in_force\n",
            "adj (s): good\n",
            "adj (s): good, serious\n",
            "adj (s): good, sound\n",
            "adj (s): good, salutary\n",
            "adj (s): good, honest\n",
            "adj (s): good, undecomposed, unspoiled, unspoilt\n",
            "adj (s): good\n",
            "adv: well, good\n",
            "adv: thoroughly, soundly, good\n"
          ]
        }
      ]
    },
    {
      "cell_type": "code",
      "source": [
        "panda = wn.synset(\"panda.n.01\")\n",
        "hyper = lambda s: s.hypernyms()\n",
        "list(panda.closure(hyper))"
      ],
      "metadata": {
        "id": "ymz21ZdliC2P",
        "outputId": "0f943fbb-167c-47d9-b0ba-c41a85a87b42",
        "colab": {
          "base_uri": "https://localhost:8080/"
        }
      },
      "execution_count": 5,
      "outputs": [
        {
          "output_type": "execute_result",
          "data": {
            "text/plain": [
              "[Synset('procyonid.n.01'),\n",
              " Synset('carnivore.n.01'),\n",
              " Synset('placental.n.01'),\n",
              " Synset('mammal.n.01'),\n",
              " Synset('vertebrate.n.01'),\n",
              " Synset('chordate.n.01'),\n",
              " Synset('animal.n.01'),\n",
              " Synset('organism.n.01'),\n",
              " Synset('living_thing.n.01'),\n",
              " Synset('whole.n.02'),\n",
              " Synset('object.n.01'),\n",
              " Synset('physical_entity.n.01'),\n",
              " Synset('entity.n.01')]"
            ]
          },
          "metadata": {},
          "execution_count": 5
        }
      ]
    },
    {
      "cell_type": "code",
      "source": [],
      "metadata": {
        "id": "1a-Gd6tXirP8"
      },
      "execution_count": null,
      "outputs": []
    }
  ]
}